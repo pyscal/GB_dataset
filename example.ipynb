{
 "cells": [
  {
   "cell_type": "markdown",
   "id": "8e272f6c-73ef-433b-9afa-cf85d757e6b5",
   "metadata": {},
   "source": [
    "# GB dataset example"
   ]
  },
  {
   "cell_type": "markdown",
   "id": "5fb4074b-89c6-431d-b7e7-6ee157f70b5f",
   "metadata": {},
   "source": [
    "This example uses a small version of the dataset from:\n",
    "\n",
    "Homer, E. R. et al. Examination of computed aluminum grain boundary structures and energies that span the 5D space of crystallographic character. Acta Materialia 234, 118006 (2022).\n"
   ]
  },
  {
   "cell_type": "code",
   "execution_count": 1,
   "id": "ba343f38-b050-4c4c-8d1a-2d26bdac67f3",
   "metadata": {},
   "outputs": [],
   "source": [
    "from atomrdf import KnowledgeGraph, System"
   ]
  },
  {
   "cell_type": "markdown",
   "id": "a3c3eca1-804a-4b9e-bcb7-7a51491af7d1",
   "metadata": {},
   "source": [
    "Un archive the dataset into a knowledge graph"
   ]
  },
  {
   "cell_type": "code",
   "execution_count": 2,
   "id": "fb4a8cf5-790c-4d48-9560-facf8dd1fe84",
   "metadata": {},
   "outputs": [],
   "source": [
    "kg = KnowledgeGraph.unarchive('kg_gb_small.tar.gz')"
   ]
  },
  {
   "cell_type": "markdown",
   "id": "47047c14-c11f-40c0-92bd-65380d400c12",
   "metadata": {},
   "source": [
    "Check number of samples"
   ]
  },
  {
   "cell_type": "code",
   "execution_count": 3,
   "id": "3b99d361-d584-4c7a-8df7-51967aeb86d5",
   "metadata": {},
   "outputs": [
    {
     "data": {
      "text/plain": [
       "20"
      ]
     },
     "execution_count": 3,
     "metadata": {},
     "output_type": "execute_result"
    }
   ],
   "source": [
    "kg.n_samples"
   ]
  },
  {
   "cell_type": "markdown",
   "id": "8db35dac-2722-43b1-9622-0e426ca82a8a",
   "metadata": {},
   "source": [
    "Programmatically query and list all calculated properties"
   ]
  },
  {
   "cell_type": "code",
   "execution_count": 14,
   "id": "7d08501e-882e-45e4-9539-3aa08d731cac",
   "metadata": {},
   "outputs": [
    {
     "name": "stdout",
     "output_type": "stream",
     "text": [
      "PREFIX cmso: <http://purls.helmholtz-metadaten.de/cmso/>\n",
      "PREFIX qudt: <http://qudt.org/schema/qudt/>\n",
      "PREFIX pldo: <http://purls.helmholtz-metadaten.de/pldo/>\n",
      "PREFIX podo: <http://purls.helmholtz-metadaten.de/podo/>\n",
      "PREFIX asmo: <http://purls.helmholtz-metadaten.de/asmo/>\n",
      "PREFIX ns: <http://www.w3.org/ns/>\n",
      "PREFIX calculation: <https://w3id.org/mdo/calculation/>\n",
      "PREFIX ldo: <http://purls.helmholtz-metadaten.de/cdos/ldo/>\n",
      "PREFIX prov: <http://www.w3.org/ns/prov#>\n",
      "PREFIX rdf: <http://www.w3.org/1999/02/22-rdf-syntax-ns#>\n",
      "PREFIX rdfs: <http://www.w3.org/2000/01/rdf-schema#>\n",
      "SELECT DISTINCT ?AtomicScaleSample ?CalculatedProperty_labelvalue ?CalculatedProperty_hasValuevalue\n",
      "WHERE {\n",
      "    ?AtomicScaleSample cmso:hasCalculatedProperty ?CalculatedProperty .\n",
      "    ?CalculatedProperty rdfs:label ?CalculatedProperty_labelvalue .\n",
      "    ?CalculatedProperty asmo:hasValue ?CalculatedProperty_hasValuevalue .\n",
      "    ?AtomicScaleSample rdf:type cmso:AtomicScaleSample .\n",
      "FILTER (?CalculatedProperty_labelvalue=\"GrainBoundaryEnergy\"^^xsd:string)\n",
      "}\n"
     ]
    }
   ],
   "source": [
    "res = kg.auto_query(kg.terms.cmso.AtomicScaleSample, \n",
    "                    [kg.terms.rdfs.label@kg.terms.cmso.CalculatedProperty=='GrainBoundaryEnergy', \n",
    "                     kg.terms.asmo.hasValue@kg.terms.cmso.CalculatedProperty],\n",
    "                   return_df=False,\n",
    "                   return_query=True)\n",
    "print(res)"
   ]
  },
  {
   "cell_type": "code",
   "execution_count": 22,
   "id": "16f49203-95ea-4de7-b684-95d52aef9195",
   "metadata": {},
   "outputs": [
    {
     "data": {
      "text/html": [
       "<div>\n",
       "<style scoped>\n",
       "    .dataframe tbody tr th:only-of-type {\n",
       "        vertical-align: middle;\n",
       "    }\n",
       "\n",
       "    .dataframe tbody tr th {\n",
       "        vertical-align: top;\n",
       "    }\n",
       "\n",
       "    .dataframe thead th {\n",
       "        text-align: right;\n",
       "    }\n",
       "</style>\n",
       "<table border=\"1\" class=\"dataframe\">\n",
       "  <thead>\n",
       "    <tr style=\"text-align: right;\">\n",
       "      <th></th>\n",
       "      <th>AtomicScaleSample</th>\n",
       "      <th>CalculatedProperty_labelvalue</th>\n",
       "      <th>value</th>\n",
       "      <th>energy</th>\n",
       "    </tr>\n",
       "  </thead>\n",
       "  <tbody>\n",
       "    <tr>\n",
       "      <th>0</th>\n",
       "      <td>sample:08ca21f9-5167-4a9c-a8c0-56a184d90678</td>\n",
       "      <td>GrainBoundaryEnergy</td>\n",
       "      <td>3</td>\n",
       "      <td>75.0</td>\n",
       "    </tr>\n",
       "    <tr>\n",
       "      <th>1</th>\n",
       "      <td>sample:08ca21f9-5167-4a9c-a8c0-56a184d90678</td>\n",
       "      <td>GrainBoundaryEnergy</td>\n",
       "      <td>3</td>\n",
       "      <td>206.0</td>\n",
       "    </tr>\n",
       "    <tr>\n",
       "      <th>2</th>\n",
       "      <td>sample:08ca21f9-5167-4a9c-a8c0-56a184d90678</td>\n",
       "      <td>GrainBoundaryEnergy</td>\n",
       "      <td>3</td>\n",
       "      <td>303.0</td>\n",
       "    </tr>\n",
       "    <tr>\n",
       "      <th>3</th>\n",
       "      <td>sample:08ca21f9-5167-4a9c-a8c0-56a184d90678</td>\n",
       "      <td>GrainBoundaryEnergy</td>\n",
       "      <td>3</td>\n",
       "      <td>328.0</td>\n",
       "    </tr>\n",
       "    <tr>\n",
       "      <th>4</th>\n",
       "      <td>sample:08ca21f9-5167-4a9c-a8c0-56a184d90678</td>\n",
       "      <td>GrainBoundaryEnergy</td>\n",
       "      <td>3</td>\n",
       "      <td>354.0</td>\n",
       "    </tr>\n",
       "    <tr>\n",
       "      <th>...</th>\n",
       "      <td>...</td>\n",
       "      <td>...</td>\n",
       "      <td>...</td>\n",
       "      <td>...</td>\n",
       "    </tr>\n",
       "    <tr>\n",
       "      <th>515</th>\n",
       "      <td>sample:e95c9554-95c5-4662-a77f-5ac1f725c65f</td>\n",
       "      <td>GrainBoundaryExcessVolume</td>\n",
       "      <td>3</td>\n",
       "      <td>0.439884477</td>\n",
       "    </tr>\n",
       "    <tr>\n",
       "      <th>516</th>\n",
       "      <td>sample:e95c9554-95c5-4662-a77f-5ac1f725c65f</td>\n",
       "      <td>GrainBoundaryExcessVolume</td>\n",
       "      <td>3</td>\n",
       "      <td>0.450694125</td>\n",
       "    </tr>\n",
       "    <tr>\n",
       "      <th>517</th>\n",
       "      <td>sample:e95c9554-95c5-4662-a77f-5ac1f725c65f</td>\n",
       "      <td>GrainBoundaryExcessVolume</td>\n",
       "      <td>3</td>\n",
       "      <td>0.458262841</td>\n",
       "    </tr>\n",
       "    <tr>\n",
       "      <th>518</th>\n",
       "      <td>sample:e95c9554-95c5-4662-a77f-5ac1f725c65f</td>\n",
       "      <td>GrainBoundaryExcessVolume</td>\n",
       "      <td>3</td>\n",
       "      <td>0.473775446</td>\n",
       "    </tr>\n",
       "    <tr>\n",
       "      <th>519</th>\n",
       "      <td>sample:e95c9554-95c5-4662-a77f-5ac1f725c65f</td>\n",
       "      <td>GrainBoundaryExcessVolume</td>\n",
       "      <td>3</td>\n",
       "      <td>0.529299027</td>\n",
       "    </tr>\n",
       "  </tbody>\n",
       "</table>\n",
       "<p>520 rows × 4 columns</p>\n",
       "</div>"
      ],
      "text/plain": [
       "                               AtomicScaleSample  \\\n",
       "0    sample:08ca21f9-5167-4a9c-a8c0-56a184d90678   \n",
       "1    sample:08ca21f9-5167-4a9c-a8c0-56a184d90678   \n",
       "2    sample:08ca21f9-5167-4a9c-a8c0-56a184d90678   \n",
       "3    sample:08ca21f9-5167-4a9c-a8c0-56a184d90678   \n",
       "4    sample:08ca21f9-5167-4a9c-a8c0-56a184d90678   \n",
       "..                                           ...   \n",
       "515  sample:e95c9554-95c5-4662-a77f-5ac1f725c65f   \n",
       "516  sample:e95c9554-95c5-4662-a77f-5ac1f725c65f   \n",
       "517  sample:e95c9554-95c5-4662-a77f-5ac1f725c65f   \n",
       "518  sample:e95c9554-95c5-4662-a77f-5ac1f725c65f   \n",
       "519  sample:e95c9554-95c5-4662-a77f-5ac1f725c65f   \n",
       "\n",
       "    CalculatedProperty_labelvalue value       energy  \n",
       "0             GrainBoundaryEnergy     3         75.0  \n",
       "1             GrainBoundaryEnergy     3        206.0  \n",
       "2             GrainBoundaryEnergy     3        303.0  \n",
       "3             GrainBoundaryEnergy     3        328.0  \n",
       "4             GrainBoundaryEnergy     3        354.0  \n",
       "..                            ...   ...          ...  \n",
       "515     GrainBoundaryExcessVolume     3  0.439884477  \n",
       "516     GrainBoundaryExcessVolume     3  0.450694125  \n",
       "517     GrainBoundaryExcessVolume     3  0.458262841  \n",
       "518     GrainBoundaryExcessVolume     3  0.473775446  \n",
       "519     GrainBoundaryExcessVolume     3  0.529299027  \n",
       "\n",
       "[520 rows x 4 columns]"
      ]
     },
     "execution_count": 22,
     "metadata": {},
     "output_type": "execute_result"
    }
   ],
   "source": [
    "kg.query(\n",
    "\"\"\"\n",
    "PREFIX cmso: <http://purls.helmholtz-metadaten.de/cmso/>\n",
    "PREFIX qudt: <http://qudt.org/schema/qudt/>\n",
    "PREFIX pldo: <http://purls.helmholtz-metadaten.de/pldo/>\n",
    "PREFIX podo: <http://purls.helmholtz-metadaten.de/podo/>\n",
    "PREFIX asmo: <http://purls.helmholtz-metadaten.de/asmo/>\n",
    "PREFIX ns: <http://www.w3.org/ns/>\n",
    "PREFIX calculation: <https://w3id.org/mdo/calculation/>\n",
    "PREFIX ldo: <http://purls.helmholtz-metadaten.de/cdos/ldo/>\n",
    "PREFIX prov: <http://www.w3.org/ns/prov#>\n",
    "PREFIX rdf: <http://www.w3.org/1999/02/22-rdf-syntax-ns#>\n",
    "PREFIX rdfs: <http://www.w3.org/2000/01/rdf-schema#>\n",
    "SELECT DISTINCT ?AtomicScaleSample ?CalculatedProperty_labelvalue  ?value ?energy\n",
    "WHERE {\n",
    "    ?AtomicScaleSample cmso:hasCalculatedProperty ?CalculatedProperty .\n",
    "    ?AtomicScaleSample cmso:hasMaterial ?material .\n",
    "    ?material cmso:hasDefect ?defect .\n",
    "    ?defect pldo:hasSigmaValue ?value .\n",
    "    ?CalculatedProperty rdfs:label ?CalculatedProperty_labelvalue .\n",
    "    ?CalculatedProperty asmo:hasValue ?energy\n",
    "FILTER (?value=\"3\"^^xsd:int)\n",
    "}\n",
    "\"\"\"\n",
    ")"
   ]
  },
  {
   "cell_type": "code",
   "execution_count": 8,
   "id": "11d4c81f-b783-4c39-9dda-3d5cdcecc59b",
   "metadata": {},
   "outputs": [
    {
     "name": "stdout",
     "output_type": "stream",
     "text": [
      "(rdflib.term.URIRef('sample:08ca21f9-5167-4a9c-a8c0-56a184d90678'), rdflib.term.Literal('GrainBoundaryEnergy'), rdflib.term.Literal('206.0', datatype=rdflib.term.URIRef('http://www.w3.org/2001/XMLSchema#float')))\n",
      "(rdflib.term.URIRef('sample:08ca21f9-5167-4a9c-a8c0-56a184d90678'), rdflib.term.Literal('GrainBoundaryEnergy'), rdflib.term.Literal('303.0', datatype=rdflib.term.URIRef('http://www.w3.org/2001/XMLSchema#float')))\n",
      "(rdflib.term.URIRef('sample:08ca21f9-5167-4a9c-a8c0-56a184d90678'), rdflib.term.Literal('GrainBoundaryEnergy'), rdflib.term.Literal('328.0', datatype=rdflib.term.URIRef('http://www.w3.org/2001/XMLSchema#float')))\n",
      "(rdflib.term.URIRef('sample:08ca21f9-5167-4a9c-a8c0-56a184d90678'), rdflib.term.Literal('GrainBoundaryEnergy'), rdflib.term.Literal('354.0', datatype=rdflib.term.URIRef('http://www.w3.org/2001/XMLSchema#float')))\n",
      "(rdflib.term.URIRef('sample:08ca21f9-5167-4a9c-a8c0-56a184d90678'), rdflib.term.Literal('GrainBoundaryEnergy'), rdflib.term.Literal('361.0', datatype=rdflib.term.URIRef('http://www.w3.org/2001/XMLSchema#float')))\n",
      "(rdflib.term.URIRef('sample:08ca21f9-5167-4a9c-a8c0-56a184d90678'), rdflib.term.Literal('GrainBoundaryEnergy'), rdflib.term.Literal('388.0', datatype=rdflib.term.URIRef('http://www.w3.org/2001/XMLSchema#float')))\n",
      "(rdflib.term.URIRef('sample:08ca21f9-5167-4a9c-a8c0-56a184d90678'), rdflib.term.Literal('GrainBoundaryEnergy'), rdflib.term.Literal('404.0', datatype=rdflib.term.URIRef('http://www.w3.org/2001/XMLSchema#float')))\n",
      "(rdflib.term.URIRef('sample:08ca21f9-5167-4a9c-a8c0-56a184d90678'), rdflib.term.Literal('GrainBoundaryEnergy'), rdflib.term.Literal('411.0', datatype=rdflib.term.URIRef('http://www.w3.org/2001/XMLSchema#float')))\n",
      "(rdflib.term.URIRef('sample:08ca21f9-5167-4a9c-a8c0-56a184d90678'), rdflib.term.Literal('GrainBoundaryEnergy'), rdflib.term.Literal('416.0', datatype=rdflib.term.URIRef('http://www.w3.org/2001/XMLSchema#float')))\n",
      "(rdflib.term.URIRef('sample:08ca21f9-5167-4a9c-a8c0-56a184d90678'), rdflib.term.Literal('GrainBoundaryEnergy'), rdflib.term.Literal('424.0', datatype=rdflib.term.URIRef('http://www.w3.org/2001/XMLSchema#float')))\n",
      "(rdflib.term.URIRef('sample:08ca21f9-5167-4a9c-a8c0-56a184d90678'), rdflib.term.Literal('GrainBoundaryEnergy'), rdflib.term.Literal('425.0', datatype=rdflib.term.URIRef('http://www.w3.org/2001/XMLSchema#float')))\n"
     ]
    }
   ],
   "source": [
    "count = 0\n",
    "for r in res:\n",
    "    print(r)\n",
    "    count = count + 1\n",
    "    if count>10:\n",
    "        break"
   ]
  },
  {
   "cell_type": "code",
   "execution_count": null,
   "id": "510178ab-c766-4476-971e-e0a3035decb5",
   "metadata": {},
   "outputs": [],
   "source": [
    "from atomrdf.n"
   ]
  },
  {
   "cell_type": "code",
   "execution_count": 25,
   "id": "411397c9-259a-46ee-ad7b-647546a39b12",
   "metadata": {},
   "outputs": [],
   "source": [
    "sg = kg.get_sample('sample:08ca21f9-5167-4a9c-a8c0-56a184d9067')"
   ]
  },
  {
   "cell_type": "code",
   "execution_count": 27,
   "id": "1bca956d-c440-4c6f-903c-bd6721377e50",
   "metadata": {},
   "outputs": [
    {
     "data": {
      "image/svg+xml": [
       "<?xml version=\"1.0\" encoding=\"UTF-8\" standalone=\"no\"?>\n",
       "<!DOCTYPE svg PUBLIC \"-//W3C//DTD SVG 1.1//EN\"\n",
       " \"http://www.w3.org/Graphics/SVG/1.1/DTD/svg11.dtd\">\n",
       "<!-- Generated by graphviz version 12.0.0 (20240803.0821)\n",
       " -->\n",
       "<!-- Pages: 1 -->\n",
       "<svg width=\"762pt\" height=\"208pt\"\n",
       " viewBox=\"0.00 0.00 761.75 207.50\" xmlns=\"http://www.w3.org/2000/svg\" xmlns:xlink=\"http://www.w3.org/1999/xlink\">\n",
       "<g id=\"graph0\" class=\"graph\" transform=\"scale(1 1) rotate(0) translate(4 203.5)\">\n",
       "<polygon fill=\"white\" stroke=\"none\" points=\"-4,4 -4,-203.5 757.75,-203.5 757.75,4 -4,4\"/>\n",
       "<!-- cmso.Length -->\n",
       "<g id=\"node1\" class=\"node\">\n",
       "<title>cmso.Length</title>\n",
       "<polygon fill=\"#c9daf8\" stroke=\"#c9daf8\" points=\"349.12,-117.75 281.38,-117.75 281.38,-81.75 349.12,-81.75 349.12,-117.75\"/>\n",
       "<text text-anchor=\"middle\" x=\"315.25\" y=\"-97.03\" font-family=\"Helvetica,sans-Serif\" font-size=\"8.00\">cmso.Length</text>\n",
       "</g>\n",
       "<!-- unit.ANGSTROM -->\n",
       "<g id=\"node2\" class=\"node\">\n",
       "<title>unit.ANGSTROM</title>\n",
       "<polygon fill=\"#c9daf8\" stroke=\"#c9daf8\" points=\"276.12,-199.5 196.38,-199.5 196.38,-163.5 276.12,-163.5 276.12,-199.5\"/>\n",
       "<text text-anchor=\"middle\" x=\"236.25\" y=\"-178.78\" font-family=\"Helvetica,sans-Serif\" font-size=\"8.00\">unit.ANGSTROM</text>\n",
       "</g>\n",
       "<!-- cmso.Length&#45;&gt;unit.ANGSTROM -->\n",
       "<g id=\"edge1\" class=\"edge\">\n",
       "<title>cmso.Length&#45;&gt;unit.ANGSTROM</title>\n",
       "<path fill=\"none\" stroke=\"#263238\" d=\"M298.11,-118.05C287.34,-128.92 273.27,-143.13 261.27,-155.24\"/>\n",
       "<polygon fill=\"#263238\" stroke=\"#263238\" points=\"258.97,-152.59 254.42,-162.15 263.95,-157.51 258.97,-152.59\"/>\n",
       "<text text-anchor=\"middle\" x=\"308.62\" y=\"-137.9\" font-family=\"Helvetica,sans-Serif\" font-size=\"8.00\">cmso.hasUnit</text>\n",
       "</g>\n",
       "<!-- cmso.Vector -->\n",
       "<g id=\"node3\" class=\"node\">\n",
       "<title>cmso.Vector</title>\n",
       "<polygon fill=\"#c9daf8\" stroke=\"#c9daf8\" points=\"204.62,-117.75 139.88,-117.75 139.88,-81.75 204.62,-81.75 204.62,-117.75\"/>\n",
       "<text text-anchor=\"middle\" x=\"172.25\" y=\"-97.03\" font-family=\"Helvetica,sans-Serif\" font-size=\"8.00\">cmso.Vector</text>\n",
       "</g>\n",
       "<!-- cmso.Vector&#45;&gt;unit.ANGSTROM -->\n",
       "<g id=\"edge2\" class=\"edge\">\n",
       "<title>cmso.Vector&#45;&gt;unit.ANGSTROM</title>\n",
       "<path fill=\"none\" stroke=\"#263238\" d=\"M185.06,-117.91C191.41,-126.31 199.25,-136.52 206.5,-145.5 208.85,-148.42 211.35,-151.44 213.85,-154.44\"/>\n",
       "<polygon fill=\"#263238\" stroke=\"#263238\" points=\"211.14,-156.66 220.27,-162.04 216.49,-152.14 211.14,-156.66\"/>\n",
       "<text text-anchor=\"middle\" x=\"234.62\" y=\"-137.9\" font-family=\"Helvetica,sans-Serif\" font-size=\"8.00\">cmso.hasUnit</text>\n",
       "</g>\n",
       "<!-- cmso.SimulationCellLength -->\n",
       "<g id=\"node4\" class=\"node\">\n",
       "<title>cmso.SimulationCellLength</title>\n",
       "<polygon fill=\"#c9daf8\" stroke=\"#c9daf8\" points=\"378.38,-36 252.12,-36 252.12,0 378.38,0 378.38,-36\"/>\n",
       "<text text-anchor=\"middle\" x=\"315.25\" y=\"-15.28\" font-family=\"Helvetica,sans-Serif\" font-size=\"8.00\">cmso.SimulationCellLength</text>\n",
       "</g>\n",
       "<!-- cmso.SimulationCellLength&#45;&gt;cmso.Length -->\n",
       "<g id=\"edge3\" class=\"edge\">\n",
       "<title>cmso.SimulationCellLength&#45;&gt;cmso.Length</title>\n",
       "<path fill=\"none\" stroke=\"#263238\" d=\"M315.25,-36.3C315.25,-46.23 315.25,-58.94 315.25,-70.3\"/>\n",
       "<polygon fill=\"#263238\" stroke=\"#263238\" points=\"311.75,-69.97 315.25,-79.97 318.75,-69.97 311.75,-69.97\"/>\n",
       "<text text-anchor=\"middle\" x=\"338.12\" y=\"-56.15\" font-family=\"Helvetica,sans-Serif\" font-size=\"8.00\">subClassOf</text>\n",
       "</g>\n",
       "<!-- cmso.LatticeAngle -->\n",
       "<g id=\"node5\" class=\"node\">\n",
       "<title>cmso.LatticeAngle</title>\n",
       "<polygon fill=\"#c9daf8\" stroke=\"#c9daf8\" points=\"614.38,-36 524.12,-36 524.12,0 614.38,0 614.38,-36\"/>\n",
       "<text text-anchor=\"middle\" x=\"569.25\" y=\"-15.28\" font-family=\"Helvetica,sans-Serif\" font-size=\"8.00\">cmso.LatticeAngle</text>\n",
       "</g>\n",
       "<!-- cmso.Angle -->\n",
       "<g id=\"node6\" class=\"node\">\n",
       "<title>cmso.Angle</title>\n",
       "<polygon fill=\"#c9daf8\" stroke=\"#c9daf8\" points=\"662.5,-117.75 600,-117.75 600,-81.75 662.5,-81.75 662.5,-117.75\"/>\n",
       "<text text-anchor=\"middle\" x=\"631.25\" y=\"-97.03\" font-family=\"Helvetica,sans-Serif\" font-size=\"8.00\">cmso.Angle</text>\n",
       "</g>\n",
       "<!-- cmso.LatticeAngle&#45;&gt;cmso.Angle -->\n",
       "<g id=\"edge4\" class=\"edge\">\n",
       "<title>cmso.LatticeAngle&#45;&gt;cmso.Angle</title>\n",
       "<path fill=\"none\" stroke=\"#263238\" d=\"M582.7,-36.3C590.91,-46.86 601.56,-60.56 610.8,-72.44\"/>\n",
       "<polygon fill=\"#263238\" stroke=\"#263238\" points=\"607.99,-74.54 616.89,-80.28 613.52,-70.24 607.99,-74.54\"/>\n",
       "<text text-anchor=\"middle\" x=\"626.12\" y=\"-56.15\" font-family=\"Helvetica,sans-Serif\" font-size=\"8.00\">subClassOf</text>\n",
       "</g>\n",
       "<!-- unit.DEG -->\n",
       "<g id=\"node9\" class=\"node\">\n",
       "<title>unit.DEG</title>\n",
       "<polygon fill=\"#c9daf8\" stroke=\"#c9daf8\" points=\"658.25,-199.5 604.25,-199.5 604.25,-163.5 658.25,-163.5 658.25,-199.5\"/>\n",
       "<text text-anchor=\"middle\" x=\"631.25\" y=\"-178.78\" font-family=\"Helvetica,sans-Serif\" font-size=\"8.00\">unit.DEG</text>\n",
       "</g>\n",
       "<!-- cmso.Angle&#45;&gt;unit.DEG -->\n",
       "<g id=\"edge7\" class=\"edge\">\n",
       "<title>cmso.Angle&#45;&gt;unit.DEG</title>\n",
       "<path fill=\"none\" stroke=\"#263238\" d=\"M631.25,-118.05C631.25,-127.98 631.25,-140.69 631.25,-152.05\"/>\n",
       "<polygon fill=\"#263238\" stroke=\"#263238\" points=\"627.75,-151.72 631.25,-161.72 634.75,-151.72 627.75,-151.72\"/>\n",
       "<text text-anchor=\"middle\" x=\"658.62\" y=\"-137.9\" font-family=\"Helvetica,sans-Serif\" font-size=\"8.00\">cmso.hasUnit</text>\n",
       "</g>\n",
       "<!-- cmso.LatticeVector -->\n",
       "<g id=\"node7\" class=\"node\">\n",
       "<title>cmso.LatticeVector</title>\n",
       "<polygon fill=\"#c9daf8\" stroke=\"#c9daf8\" points=\"92.5,-36 0,-36 0,0 92.5,0 92.5,-36\"/>\n",
       "<text text-anchor=\"middle\" x=\"46.25\" y=\"-15.28\" font-family=\"Helvetica,sans-Serif\" font-size=\"8.00\">cmso.LatticeVector</text>\n",
       "</g>\n",
       "<!-- cmso.LatticeVector&#45;&gt;cmso.Vector -->\n",
       "<g id=\"edge5\" class=\"edge\">\n",
       "<title>cmso.LatticeVector&#45;&gt;cmso.Vector</title>\n",
       "<path fill=\"none\" stroke=\"#263238\" d=\"M73.59,-36.3C91.67,-47.75 115.59,-62.89 135.35,-75.4\"/>\n",
       "<polygon fill=\"#263238\" stroke=\"#263238\" points=\"133.36,-78.28 143.68,-80.67 137.11,-72.36 133.36,-78.28\"/>\n",
       "<text text-anchor=\"middle\" x=\"140.12\" y=\"-56.15\" font-family=\"Helvetica,sans-Serif\" font-size=\"8.00\">subClassOf</text>\n",
       "</g>\n",
       "<!-- cmso.SimulationCellVector -->\n",
       "<g id=\"node8\" class=\"node\">\n",
       "<title>cmso.SimulationCellVector</title>\n",
       "<polygon fill=\"#c9daf8\" stroke=\"#c9daf8\" points=\"233.88,-36 110.62,-36 110.62,0 233.88,0 233.88,-36\"/>\n",
       "<text text-anchor=\"middle\" x=\"172.25\" y=\"-15.28\" font-family=\"Helvetica,sans-Serif\" font-size=\"8.00\">cmso.SimulationCellVector</text>\n",
       "</g>\n",
       "<!-- cmso.SimulationCellVector&#45;&gt;cmso.Vector -->\n",
       "<g id=\"edge6\" class=\"edge\">\n",
       "<title>cmso.SimulationCellVector&#45;&gt;cmso.Vector</title>\n",
       "<path fill=\"none\" stroke=\"#263238\" d=\"M172.25,-36.3C172.25,-46.23 172.25,-58.94 172.25,-70.3\"/>\n",
       "<polygon fill=\"#263238\" stroke=\"#263238\" points=\"168.75,-69.97 172.25,-79.97 175.75,-69.97 168.75,-69.97\"/>\n",
       "<text text-anchor=\"middle\" x=\"195.12\" y=\"-56.15\" font-family=\"Helvetica,sans-Serif\" font-size=\"8.00\">subClassOf</text>\n",
       "</g>\n",
       "<!-- cmso.LatticeParameter -->\n",
       "<g id=\"node10\" class=\"node\">\n",
       "<title>cmso.LatticeParameter</title>\n",
       "<polygon fill=\"#c9daf8\" stroke=\"#c9daf8\" points=\"505.75,-36 396.75,-36 396.75,0 505.75,0 505.75,-36\"/>\n",
       "<text text-anchor=\"middle\" x=\"451.25\" y=\"-15.28\" font-family=\"Helvetica,sans-Serif\" font-size=\"8.00\">cmso.LatticeParameter</text>\n",
       "</g>\n",
       "<!-- cmso.LatticeParameter&#45;&gt;cmso.Length -->\n",
       "<g id=\"edge8\" class=\"edge\">\n",
       "<title>cmso.LatticeParameter&#45;&gt;cmso.Length</title>\n",
       "<path fill=\"none\" stroke=\"#263238\" d=\"M421.74,-36.3C402.05,-47.85 375.93,-63.17 354.49,-75.74\"/>\n",
       "<polygon fill=\"#263238\" stroke=\"#263238\" points=\"352.86,-72.64 346.01,-80.71 356.4,-78.67 352.86,-72.64\"/>\n",
       "<text text-anchor=\"middle\" x=\"414.12\" y=\"-56.15\" font-family=\"Helvetica,sans-Serif\" font-size=\"8.00\">subClassOf</text>\n",
       "</g>\n",
       "<!-- cmso.SimulationCellAngle -->\n",
       "<g id=\"node11\" class=\"node\">\n",
       "<title>cmso.SimulationCellAngle</title>\n",
       "<polygon fill=\"#c9daf8\" stroke=\"#c9daf8\" points=\"753.75,-36 632.75,-36 632.75,0 753.75,0 753.75,-36\"/>\n",
       "<text text-anchor=\"middle\" x=\"693.25\" y=\"-15.28\" font-family=\"Helvetica,sans-Serif\" font-size=\"8.00\">cmso.SimulationCellAngle</text>\n",
       "</g>\n",
       "<!-- cmso.SimulationCellAngle&#45;&gt;cmso.Angle -->\n",
       "<g id=\"edge9\" class=\"edge\">\n",
       "<title>cmso.SimulationCellAngle&#45;&gt;cmso.Angle</title>\n",
       "<path fill=\"none\" stroke=\"#263238\" d=\"M679.8,-36.3C671.59,-46.86 660.94,-60.56 651.7,-72.44\"/>\n",
       "<polygon fill=\"#263238\" stroke=\"#263238\" points=\"648.98,-70.24 645.61,-80.28 654.51,-74.54 648.98,-70.24\"/>\n",
       "<text text-anchor=\"middle\" x=\"688.12\" y=\"-56.15\" font-family=\"Helvetica,sans-Serif\" font-size=\"8.00\">subClassOf</text>\n",
       "</g>\n",
       "</g>\n",
       "</svg>\n"
      ],
      "text/plain": [
       "<graphviz.graphs.Digraph at 0x7f5fe14bead0>"
      ]
     },
     "execution_count": 27,
     "metadata": {},
     "output_type": "execute_result"
    }
   ],
   "source": [
    "sg.visualise(layout='dot', size=(20,10))"
   ]
  },
  {
   "cell_type": "code",
   "execution_count": null,
   "id": "8bef5e5e-fd87-4eef-8fff-b8aa820311fe",
   "metadata": {},
   "outputs": [],
   "source": []
  }
 ],
 "metadata": {
  "kernelspec": {
   "display_name": "Python 3 (ipykernel)",
   "language": "python",
   "name": "python3"
  },
  "language_info": {
   "codemirror_mode": {
    "name": "ipython",
    "version": 3
   },
   "file_extension": ".py",
   "mimetype": "text/x-python",
   "name": "python",
   "nbconvert_exporter": "python",
   "pygments_lexer": "ipython3",
   "version": "3.11.9"
  }
 },
 "nbformat": 4,
 "nbformat_minor": 5
}
